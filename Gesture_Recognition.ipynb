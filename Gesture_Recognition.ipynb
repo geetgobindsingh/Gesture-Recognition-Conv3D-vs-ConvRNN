{
 "cells": [
  {
   "cell_type": "markdown",
   "metadata": {},
   "source": [
    "# Gesture Recognition\n",
    "In this group project, you are going to build a 3D Conv model that will be able to predict the 5 gestures correctly. Please import the following libraries to get started."
   ]
  },
  {
   "cell_type": "code",
   "execution_count": 1,
   "metadata": {},
   "outputs": [
    {
     "name": "stderr",
     "output_type": "stream",
     "text": [
      "Using TensorFlow backend.\n"
     ]
    }
   ],
   "source": [
    "import numpy as np\n",
    "import os\n",
    "from scipy.misc import imread, imresize\n",
    "import datetime\n",
    "import os\n",
    "import cv2\n",
    "import matplotlib.pyplot as plt\n",
    "from keras.regularizers import l2\n",
    "from keras.layers import Conv2D, MaxPooling2D"
   ]
  },
  {
   "cell_type": "markdown",
   "metadata": {},
   "source": [
    "We set the random seed so that the results don't vary drastically."
   ]
  },
  {
   "cell_type": "code",
   "execution_count": 2,
   "metadata": {},
   "outputs": [],
   "source": [
    "np.random.seed(30)\n",
    "import random as rn\n",
    "rn.seed(30)\n",
    "from tensorflow.keras import backend as K\n",
    "import tensorflow as tf\n",
    "tf.set_random_seed(30)"
   ]
  },
  {
   "cell_type": "markdown",
   "metadata": {},
   "source": [
    "In this block, you read the folder names for training and validation. You also set the `batch_size` here. Note that you set the batch size in such a way that you are able to use the GPU in full capacity. You keep increasing the batch size until the machine throws an error."
   ]
  },
  {
   "cell_type": "code",
   "execution_count": 3,
   "metadata": {},
   "outputs": [],
   "source": [
    "train_doc = np.random.permutation(open('./Project_data/train.csv').readlines())\n",
    "val_doc = np.random.permutation(open('./Project_data/val.csv').readlines())\n",
    "batch_size = 10"
   ]
  },
  {
   "cell_type": "markdown",
   "metadata": {},
   "source": [
    "# Generator :\n",
    "This is one of the most important part of the code. The overall structure of the generator has been given. In the generator, you are going to preprocess the images as you have images of 2 different dimensions as well as create a batch of video frames. You have to experiment with `img_idx`, `y`,`z` and normalization such that you get high accuracy."
   ]
  },
  {
   "cell_type": "code",
   "execution_count": 4,
   "metadata": {},
   "outputs": [],
   "source": [
    "# Parameters initialization\n",
    "nb_rows = 120   # X dimension of the image\n",
    "nb_cols = 120   # Y dimesnion of the image\n",
    "nb_frames = 15  # Length of the video frames\n",
    "nb_classes = 5  # Number of classes\n",
    "nb_channel = 3  # Number of channels in images 3 for color(RGB) and 1 for Gray"
   ]
  },
  {
   "cell_type": "code",
   "execution_count": 5,
   "metadata": {},
   "outputs": [],
   "source": [
    "# Helper function to generate a random affine transform on the iamge\n",
    "def get_random_affine():\n",
    "    dx, dy = np.random.randint(-1.7, 1.8, 2)\n",
    "    M = np.float32([[1, 0, dx], [0, 1, dy]])\n",
    "    return M"
   ]
  },
  {
   "cell_type": "code",
   "execution_count": 6,
   "metadata": {},
   "outputs": [],
   "source": [
    "# Helper function to normalise the data\n",
    "def normalize_data(data):\n",
    "    return data/255"
   ]
  },
  {
   "cell_type": "code",
   "execution_count": 7,
   "metadata": {},
   "outputs": [],
   "source": [
    "# Helper function to initialize all the batch image data and labels\n",
    "def init_batch_data(batch_size):\n",
    "    batch_data = np.zeros((batch_size, nb_frames, nb_rows, nb_cols, nb_channel)) \n",
    "    batch_labels = np.zeros((batch_size,5)) # batch_labels is the one hot representation of the output\n",
    "    return batch_data, batch_labels"
   ]
  },
  {
   "cell_type": "code",
   "execution_count": 8,
   "metadata": {},
   "outputs": [],
   "source": [
    "def load_batch_images(source_path, folder_list, batch_num, batch_size, t,validation):\n",
    "    \n",
    "    batch_data, batch_labels = init_batch_data(batch_size)\n",
    "    \n",
    "     # We will also build an augumented batch data with affine transformation\n",
    "    batch_data_aug, batch_labels_aug = init_batch_data(batch_size)\n",
    "    \n",
    "    #create a list of image numbers you want to use for a particular video using full frames\n",
    "    img_idx = [x for x in range(0, 30, 2)] \n",
    "\n",
    "    for folder in range(batch_size): # iterate over the batch_size\n",
    "        # read all the images in the folder\n",
    "        imgs = sorted(os.listdir(source_path+'/'+ t[folder + (batch_num*batch_size)].split(';')[0])) \n",
    "        \n",
    "        # Generate a random affine to be used in image transformation for buidling agumented data set\n",
    "        M = get_random_affine()\n",
    "        \n",
    "        #  Iterate over the frames/images of a folder to read them in\n",
    "        for idx, item in enumerate(img_idx): \n",
    "            ## image = imread(source_path+'/'+ t[folder + (batch_num*batch_size)].strip().split(';')[0]+'/'+imgs[item]).astype(np.float32)\n",
    "            image = cv2.imread(source_path+'/'+ t[folder + (batch_num*batch_size)].strip().split(';')[0]+'/'+imgs[item], cv2.IMREAD_COLOR)\n",
    "            image = cv2.cvtColor(image, cv2.COLOR_BGR2RGB)\n",
    "            \n",
    "            # Cropping non symmetric frames\n",
    "            if image.shape[0] != image.shape[1]:\n",
    "                image=image[0:120,20:140]\n",
    "            \n",
    "            #crop the images and resize them. Note that the images are of 2 different shape \n",
    "            #and the conv3D will throw error if the inputs in a batch have different shapes   \n",
    "            resized = cv2.resize(image, (nb_rows,nb_cols), interpolation = cv2.INTER_AREA)\n",
    "            #Normal data\n",
    "            batch_data[folder,idx] = (resized)\n",
    "            \n",
    "            #Data with affine transformation\n",
    "            batch_data_aug[folder,idx] = (cv2.warpAffine(resized, M, (resized.shape[0], resized.shape[1])))\n",
    "\n",
    "        batch_labels[folder, int(t[folder + (batch_num*batch_size)].strip().split(';')[2])] = 1\n",
    "        batch_labels_aug[folder, int(t[folder + (batch_num*batch_size)].strip().split(';')[2])] = 1\n",
    "    \n",
    "    batch_data_final = np.append(batch_data, batch_data_aug, axis = 0)\n",
    "\n",
    "    batch_labels_final = np.append(batch_labels, batch_labels_aug, axis = 0) \n",
    "    \n",
    "    if validation:\n",
    "        batch_data_final=batch_data\n",
    "        batch_labels_final= batch_labels\n",
    "        \n",
    "    return batch_data_final,batch_labels_final"
   ]
  },
  {
   "cell_type": "code",
   "execution_count": 9,
   "metadata": {},
   "outputs": [],
   "source": [
    "def generator(source_path, folder_list, batch_size, validation=False):\n",
    "    print( 'Source path = ', source_path, '; batch size =', batch_size)\n",
    "    while True:\n",
    "        t = np.random.permutation(folder_list)\n",
    "        num_batches = len(folder_list)//batch_size # calculate the number of batches\n",
    "        for batch in range(num_batches): # we iterate over the number of batches\n",
    "            # you yield the batch_data and the batch_labels, remember what does yield do\n",
    "            yield load_batch_images(source_path, folder_list, batch, batch_size, t,validation)\n",
    "            \n",
    "\n",
    "        \n",
    "        # Code for the remaining data points which are left after full batches\n",
    "        if (len(folder_list) != batch_size*num_batches):\n",
    "            batch_size = len(folder_list) - (batch_size*num_batches)\n",
    "            yield load_batch_images(source_path, folder_list, batch, batch_size, t,validation)\n"
   ]
  },
  {
   "cell_type": "markdown",
   "metadata": {},
   "source": [
    "Note here that a video is represented above in the generator as (number of images, height, width, number of channels). Take this into consideration while creating the model architecture."
   ]
  },
  {
   "cell_type": "code",
   "execution_count": 10,
   "metadata": {},
   "outputs": [
    {
     "name": "stdout",
     "output_type": "stream",
     "text": [
      "# training sequences = 663\n",
      "# validation sequences = 100\n",
      "# epochs = 10\n"
     ]
    }
   ],
   "source": [
    "curr_dt_time = datetime.datetime.now()\n",
    "train_path = './Project_data/train'\n",
    "val_path = './Project_data/val'\n",
    "num_train_sequences = len(train_doc)\n",
    "print('# training sequences =', num_train_sequences)\n",
    "num_val_sequences = len(val_doc)\n",
    "print('# validation sequences =', num_val_sequences)\n",
    "num_epochs = 10 # choose the number of epochs\n",
    "print ('# epochs =', num_epochs)"
   ]
  },
  {
   "cell_type": "markdown",
   "metadata": {},
   "source": [
    "# Model Building :\n",
    "\n",
    "Here you make the model using different functionalities that Keras provides. Remember to use `Conv3D` and `MaxPooling3D` and not `Conv2D` and `Maxpooling2D` for a 3D convolution model. You would want to use `TimeDistributed` while building a Conv2D + RNN model. Also remember that the last layer is the softmax. Design the network in such a way that the model is able to give good accuracy on the least number of parameters so that it can fit in the memory of the webcam."
   ]
  },
  {
   "cell_type": "code",
   "execution_count": 16,
   "metadata": {},
   "outputs": [],
   "source": [
    "from tensorflow.keras.models import Sequential, Model\n",
    "from tensorflow.keras.layers import Dense, GRU, Flatten, TimeDistributed,\\\n",
    "                                    Flatten, BatchNormalization, Activation, Dropout\n",
    "from tensorflow.keras.layers import Conv3D, MaxPooling3D\n",
    "from tensorflow.keras.callbacks import ModelCheckpoint, ReduceLROnPlateau\n",
    "from tensorflow.keras import optimizers"
   ]
  },
  {
   "cell_type": "code",
   "execution_count": 17,
   "metadata": {},
   "outputs": [],
   "source": [
    "# Input\n",
    "input_shape=(nb_frames, nb_rows, nb_cols, nb_channel)"
   ]
  },
  {
   "cell_type": "markdown",
   "metadata": {},
   "source": [
    "# <font color='1B3694'>--------------------------------------------Model Conv-3D--------------------------------------------"
   ]
  },
  {
   "cell_type": "code",
   "execution_count": 13,
   "metadata": {},
   "outputs": [],
   "source": [
    "model = Sequential()\n",
    "\n",
    "model.add(Conv3D(8, kernel_size=(3,3,3), input_shape=input_shape, padding='same'))\n",
    "model.add(Activation('relu'))\n",
    "model.add(BatchNormalization())\n",
    "model.add(MaxPooling3D(pool_size=(2,2,2)))\n",
    "\n",
    "model.add(Conv3D(8, kernel_size=(3,3,3), input_shape=input_shape, padding='same'))\n",
    "model.add(Activation('relu'))\n",
    "model.add(BatchNormalization())\n",
    "model.add(MaxPooling3D(pool_size=(2,2,2),padding='same'))\n",
    "\n",
    "model.add(Conv3D(16, kernel_size=(3,3,3)))\n",
    "model.add(Activation('relu'))\n",
    "model.add(BatchNormalization())\n",
    "model.add(MaxPooling3D(pool_size=(2,2,2)))\n",
    "model.add(Dropout(0.25))\n",
    "\n",
    "model.add(Conv3D(32, kernel_size=(1,3,3)))\n",
    "model.add(Activation('relu'))\n",
    "model.add(BatchNormalization())\n",
    "model.add(MaxPooling3D(pool_size=(2,2,2),padding='same'))\n",
    "model.add(Dropout(0.25))\n",
    "\n",
    "\n",
    "#Flatten Layers\n",
    "model.add(Flatten())\n",
    "model.add(Dense(256, activation='relu'))\n",
    "model.add(Dropout(0.5))\n",
    "\n",
    "#softmax layer\n",
    "model.add(Dense(5, activation='softmax'))"
   ]
  },
  {
   "cell_type": "raw",
   "metadata": {},
   "source": [
    "Now that you have written the model, the next step is to ``compile` the model. When you print the `summary` of the model, you'll see the total number of parameters you have to train."
   ]
  },
  {
   "cell_type": "code",
   "execution_count": 14,
   "metadata": {},
   "outputs": [
    {
     "name": "stdout",
     "output_type": "stream",
     "text": [
      "_________________________________________________________________\n",
      "Layer (type)                 Output Shape              Param #   \n",
      "=================================================================\n",
      "conv3d (Conv3D)              (None, 15, 120, 120, 8)   656       \n",
      "_________________________________________________________________\n",
      "activation (Activation)      (None, 15, 120, 120, 8)   0         \n",
      "_________________________________________________________________\n",
      "batch_normalization (BatchNo (None, 15, 120, 120, 8)   32        \n",
      "_________________________________________________________________\n",
      "max_pooling3d (MaxPooling3D) (None, 7, 60, 60, 8)      0         \n",
      "_________________________________________________________________\n",
      "conv3d_1 (Conv3D)            (None, 7, 60, 60, 8)      1736      \n",
      "_________________________________________________________________\n",
      "activation_1 (Activation)    (None, 7, 60, 60, 8)      0         \n",
      "_________________________________________________________________\n",
      "batch_normalization_1 (Batch (None, 7, 60, 60, 8)      32        \n",
      "_________________________________________________________________\n",
      "max_pooling3d_1 (MaxPooling3 (None, 4, 30, 30, 8)      0         \n",
      "_________________________________________________________________\n",
      "conv3d_2 (Conv3D)            (None, 2, 28, 28, 16)     3472      \n",
      "_________________________________________________________________\n",
      "activation_2 (Activation)    (None, 2, 28, 28, 16)     0         \n",
      "_________________________________________________________________\n",
      "batch_normalization_2 (Batch (None, 2, 28, 28, 16)     64        \n",
      "_________________________________________________________________\n",
      "max_pooling3d_2 (MaxPooling3 (None, 1, 14, 14, 16)     0         \n",
      "_________________________________________________________________\n",
      "dropout (Dropout)            (None, 1, 14, 14, 16)     0         \n",
      "_________________________________________________________________\n",
      "conv3d_3 (Conv3D)            (None, 1, 12, 12, 32)     4640      \n",
      "_________________________________________________________________\n",
      "activation_3 (Activation)    (None, 1, 12, 12, 32)     0         \n",
      "_________________________________________________________________\n",
      "batch_normalization_3 (Batch (None, 1, 12, 12, 32)     128       \n",
      "_________________________________________________________________\n",
      "max_pooling3d_3 (MaxPooling3 (None, 1, 6, 6, 32)       0         \n",
      "_________________________________________________________________\n",
      "dropout_1 (Dropout)          (None, 1, 6, 6, 32)       0         \n",
      "_________________________________________________________________\n",
      "flatten (Flatten)            (None, 1152)              0         \n",
      "_________________________________________________________________\n",
      "dense (Dense)                (None, 256)               295168    \n",
      "_________________________________________________________________\n",
      "dropout_2 (Dropout)          (None, 256)               0         \n",
      "_________________________________________________________________\n",
      "dense_1 (Dense)              (None, 5)                 1285      \n",
      "=================================================================\n",
      "Total params: 307,213\n",
      "Trainable params: 307,085\n",
      "Non-trainable params: 128\n",
      "_________________________________________________________________\n",
      "None\n"
     ]
    }
   ],
   "source": [
    "optimiser = 'sgd'\n",
    "model.compile(optimizer=optimiser, loss='categorical_crossentropy', metrics=['categorical_accuracy'])\n",
    "print (model.summary())"
   ]
  },
  {
   "cell_type": "markdown",
   "metadata": {},
   "source": [
    "Let us create the `train_generator` and the `val_generator` which will be used in `.fit_generator`."
   ]
  },
  {
   "cell_type": "code",
   "execution_count": 15,
   "metadata": {},
   "outputs": [],
   "source": [
    "train_generator = generator(train_path, train_doc, batch_size)\n",
    "val_generator = generator(val_path, val_doc, batch_size)"
   ]
  },
  {
   "cell_type": "code",
   "execution_count": 16,
   "metadata": {},
   "outputs": [],
   "source": [
    "model_name = 'model_init' + '_' + str(curr_dt_time).replace(' ','').replace(':','_') + '/'\n",
    "    \n",
    "if not os.path.exists(model_name):\n",
    "    os.mkdir(model_name)\n",
    "        \n",
    "filepath = model_name + 'model-{epoch:05d}-{loss:.5f}-{categorical_accuracy:.5f}-{val_loss:.5f}-{val_categorical_accuracy:.5f}.h5'\n",
    "\n",
    "checkpoint = ModelCheckpoint(filepath, monitor='val_loss', verbose=1, save_best_only=False, save_weights_only=False, mode='auto', period=1)\n",
    "\n",
    "# write the REducelronplateau code here\n",
    "LR = ReduceLROnPlateau(monitor='val_loss', factor=0.5, patience=2, cooldown=1, verbose=1)\n",
    "callbacks_list = [checkpoint, LR]"
   ]
  },
  {
   "cell_type": "markdown",
   "metadata": {},
   "source": [
    "The `steps_per_epoch` and `validation_steps` are used by `fit_generator` to decide the number of next() calls it need to make."
   ]
  },
  {
   "cell_type": "code",
   "execution_count": 17,
   "metadata": {},
   "outputs": [],
   "source": [
    "if (num_train_sequences%batch_size) == 0:\n",
    "    steps_per_epoch = int(num_train_sequences/batch_size)\n",
    "else:\n",
    "    steps_per_epoch = (num_train_sequences//batch_size) + 1\n",
    "\n",
    "if (num_val_sequences%batch_size) == 0:\n",
    "    validation_steps = int(num_val_sequences/batch_size)\n",
    "else:\n",
    "    validation_steps = (num_val_sequences//batch_size) + 1"
   ]
  },
  {
   "cell_type": "markdown",
   "metadata": {},
   "source": [
    "Let us now fit the model. This will start training the model and with the help of the checkpoints, you'll be able to save the model at the end of each epoch."
   ]
  },
  {
   "cell_type": "code",
   "execution_count": 18,
   "metadata": {},
   "outputs": [
    {
     "name": "stdout",
     "output_type": "stream",
     "text": [
      "Source path =  ./Project_data/train ; batch size =Epoch 1/10\n",
      " 10\n",
      "66/67 [============================>.] - ETA: 0s - loss: 2.0351 - categorical_accuracy: 0.3992Source path =  ./Project_data/val ; batch size = 10\n",
      "\n",
      "Epoch 00001: saving model to model_init_2019-12-2315_31_34.536150/model-00001-2.02669-0.40196-2.97879-0.36000.h5\n",
      "67/67 [==============================] - 46s 688ms/step - loss: 2.0076 - categorical_accuracy: 0.4081 - val_loss: 2.9788 - val_categorical_accuracy: 0.3600\n",
      "Epoch 2/10\n",
      "66/67 [============================>.] - ETA: 0s - loss: 1.5806 - categorical_accuracy: 0.4848\n",
      "Epoch 00002: saving model to model_init_2019-12-2315_31_34.536150/model-00002-1.57261-0.48507-1.12077-0.50000.h5\n",
      "67/67 [==============================] - 15s 218ms/step - loss: 1.5726 - categorical_accuracy: 0.4851 - val_loss: 1.1208 - val_categorical_accuracy: 0.5000\n",
      "Epoch 3/10\n",
      "66/67 [============================>.] - ETA: 0s - loss: 1.2179 - categorical_accuracy: 0.5682\n",
      "Epoch 00003: saving model to model_init_2019-12-2315_31_34.536150/model-00003-1.22044-0.56716-0.92480-0.57500.h5\n",
      "67/67 [==============================] - 14s 216ms/step - loss: 1.2204 - categorical_accuracy: 0.5672 - val_loss: 0.9248 - val_categorical_accuracy: 0.5750\n",
      "Epoch 4/10\n",
      "66/67 [============================>.] - ETA: 0s - loss: 1.2028 - categorical_accuracy: 0.5859\n",
      "Epoch 00004: saving model to model_init_2019-12-2315_31_34.536150/model-00004-1.20268-0.58458-0.71258-0.69000.h5\n",
      "67/67 [==============================] - 15s 216ms/step - loss: 1.2027 - categorical_accuracy: 0.5846 - val_loss: 0.7126 - val_categorical_accuracy: 0.6900\n",
      "Epoch 5/10\n",
      "66/67 [============================>.] - ETA: 0s - loss: 0.9005 - categorical_accuracy: 0.6566\n",
      "Epoch 00005: saving model to model_init_2019-12-2315_31_34.536150/model-00005-0.90533-0.65672-1.00916-0.68500.h5\n",
      "67/67 [==============================] - 15s 223ms/step - loss: 0.9053 - categorical_accuracy: 0.6567 - val_loss: 1.0092 - val_categorical_accuracy: 0.6850\n",
      "Epoch 6/10\n",
      "66/67 [============================>.] - ETA: 0s - loss: 0.7816 - categorical_accuracy: 0.6995\n",
      "Epoch 00006: saving model to model_init_2019-12-2315_31_34.536150/model-00006-0.79154-0.69403-0.88687-0.72500.h5\n",
      "\n",
      "Epoch 00006: ReduceLROnPlateau reducing learning rate to 0.004999999888241291.\n",
      "67/67 [==============================] - 14s 207ms/step - loss: 0.7915 - categorical_accuracy: 0.6940 - val_loss: 0.8869 - val_categorical_accuracy: 0.7250\n",
      "Epoch 7/10\n",
      "66/67 [============================>.] - ETA: 0s - loss: 0.6560 - categorical_accuracy: 0.7298\n",
      "Epoch 00007: saving model to model_init_2019-12-2315_31_34.536150/model-00007-0.64948-0.73383-1.00785-0.67500.h5\n",
      "67/67 [==============================] - 15s 220ms/step - loss: 0.6495 - categorical_accuracy: 0.7338 - val_loss: 1.0079 - val_categorical_accuracy: 0.6750\n",
      "Epoch 8/10\n",
      "66/67 [============================>.] - ETA: 0s - loss: 0.6849 - categorical_accuracy: 0.7500\n",
      "Epoch 00008: saving model to model_init_2019-12-2315_31_34.536150/model-00008-0.67805-0.75124-0.66864-0.76500.h5\n",
      "67/67 [==============================] - 14s 215ms/step - loss: 0.6781 - categorical_accuracy: 0.7512 - val_loss: 0.6686 - val_categorical_accuracy: 0.7650\n",
      "Epoch 9/10\n",
      "66/67 [============================>.] - ETA: 0s - loss: 0.5541 - categorical_accuracy: 0.7929\n",
      "Epoch 00009: saving model to model_init_2019-12-2315_31_34.536150/model-00009-0.54983-0.79602-0.49542-0.81000.h5\n",
      "67/67 [==============================] - 15s 224ms/step - loss: 0.5498 - categorical_accuracy: 0.7960 - val_loss: 0.4954 - val_categorical_accuracy: 0.8100\n",
      "Epoch 10/10\n",
      "66/67 [============================>.] - ETA: 0s - loss: 0.5919 - categorical_accuracy: 0.7753\n",
      "Epoch 00010: saving model to model_init_2019-12-2315_31_34.536150/model-00010-0.59768-0.77363-0.46509-0.81000.h5\n",
      "67/67 [==============================] - 14s 211ms/step - loss: 0.5977 - categorical_accuracy: 0.7736 - val_loss: 0.4651 - val_categorical_accuracy: 0.8100\n"
     ]
    }
   ],
   "source": [
    "history = model.fit_generator(train_generator,\n",
    "                    steps_per_epoch=steps_per_epoch,\n",
    "                    epochs=num_epochs,\n",
    "                    verbose=1, \n",
    "                    callbacks=callbacks_list,\n",
    "                    validation_data=val_generator, \n",
    "                    validation_steps=validation_steps,\n",
    "                    class_weight=None,\n",
    "                    workers=1,\n",
    "                    shuffle=True,\n",
    "                    initial_epoch=0)"
   ]
  },
  {
   "cell_type": "markdown",
   "metadata": {},
   "source": [
    "<font color=#2A941B>As we can see Conv3D model is yeilding higher accuracy of 77% in training data and 81% in validation data with just 307,213 parameters.This is a good model .\n",
    "\n",
    "Also the Conv-RNN Model was yeilding accuracy of 73% in training data and 74% in validation data with 303,901 parameters ."
   ]
  },
  {
   "cell_type": "markdown",
   "metadata": {},
   "source": [
    "#### <font color=#900C3F> Hence we can say that here Conv3D is performing better than Conv-RNN in similar number of parameters!"
   ]
  },
  {
   "cell_type": "markdown",
   "metadata": {},
   "source": [
    "The code for Conv-RNN model we build is given Below ."
   ]
  },
  {
   "cell_type": "markdown",
   "metadata": {},
   "source": [
    "# <font color='1B3694'>--------------------------------------------Model Conv-RNN--------------------------------------------"
   ]
  },
  {
   "cell_type": "code",
   "execution_count": 18,
   "metadata": {},
   "outputs": [],
   "source": [
    "from tensorflow.keras.layers import LSTM\n",
    "from tensorflow.keras.layers import Conv2D, MaxPooling2D\n",
    "from tensorflow.keras.applications import ResNet50\n",
    "from tensorflow.keras.applications.resnet50 import preprocess_input"
   ]
  },
  {
   "cell_type": "code",
   "execution_count": 19,
   "metadata": {},
   "outputs": [],
   "source": [
    "model = Sequential()\n",
    "\n",
    "model.add(TimeDistributed(Conv2D(8,\n",
    "                                 kernel_size = (3, 3),\n",
    "                                             activation='relu',\n",
    "                                 padding='same'),\n",
    "                          input_shape=input_shape))\n",
    "\n",
    "model.add(TimeDistributed(BatchNormalization()))\n",
    "\n",
    "model.add(TimeDistributed(MaxPooling2D(pool_size = (2, 2) )))\n",
    "\n",
    "\n",
    "model.add(TimeDistributed(Conv2D(8,\n",
    "                                 kernel_size = (3, 3),\n",
    "                                             activation='relu',\n",
    "                                 padding='same'),\n",
    "                          input_shape=input_shape))\n",
    "model.add(TimeDistributed(BatchNormalization()))\n",
    "\n",
    "model.add(TimeDistributed(MaxPooling2D(pool_size = (2, 2) )))\n",
    "\n",
    "\n",
    "\n",
    "model.add(TimeDistributed(Conv2D(16,\n",
    "                                 kernel_size = (3,3),\n",
    "                                 padding='same',\n",
    "                                 activation='relu')))\n",
    "\n",
    "model.add(TimeDistributed(MaxPooling2D(pool_size = (2, 2) )))\n",
    "                                      \n",
    "\n",
    "    \n",
    "model.add(TimeDistributed(Conv2D(32,\n",
    "                                 kernel_size = (1,3),\n",
    "                                 padding='same',\n",
    "                                 activation='relu')))\n",
    "model.add(TimeDistributed(MaxPooling2D(pool_size = (2, 2) )))\n",
    "\n",
    "model.add(TimeDistributed(BatchNormalization()))\n",
    "model.add(Dropout(0.25))\n",
    "\n",
    "\n",
    "model.add(TimeDistributed(Flatten()))\n",
    "model.add(Dense(128, activation='relu'))\n",
    "model.add(Dropout(0.5))\n",
    "\n",
    "\n",
    "# Using GRU as the RNN model along with softmax as our last layer.\n",
    "\n",
    "model.add(GRU(128, return_sequences=False))\n",
    "#model.add(Dropout(0.5))\n",
    "model.add(Dense(nb_classes, activation='softmax')) # using Softmax as last layer"
   ]
  },
  {
   "cell_type": "code",
   "execution_count": 20,
   "metadata": {},
   "outputs": [
    {
     "name": "stdout",
     "output_type": "stream",
     "text": [
      "_________________________________________________________________\n",
      "Layer (type)                 Output Shape              Param #   \n",
      "=================================================================\n",
      "time_distributed (TimeDistri (None, 15, 120, 120, 8)   224       \n",
      "_________________________________________________________________\n",
      "time_distributed_1 (TimeDist (None, 15, 120, 120, 8)   32        \n",
      "_________________________________________________________________\n",
      "time_distributed_2 (TimeDist (None, 15, 60, 60, 8)     0         \n",
      "_________________________________________________________________\n",
      "time_distributed_3 (TimeDist (None, 15, 60, 60, 8)     584       \n",
      "_________________________________________________________________\n",
      "time_distributed_4 (TimeDist (None, 15, 60, 60, 8)     32        \n",
      "_________________________________________________________________\n",
      "time_distributed_5 (TimeDist (None, 15, 30, 30, 8)     0         \n",
      "_________________________________________________________________\n",
      "time_distributed_6 (TimeDist (None, 15, 30, 30, 16)    1168      \n",
      "_________________________________________________________________\n",
      "time_distributed_7 (TimeDist (None, 15, 15, 15, 16)    0         \n",
      "_________________________________________________________________\n",
      "time_distributed_8 (TimeDist (None, 15, 15, 15, 32)    1568      \n",
      "_________________________________________________________________\n",
      "time_distributed_9 (TimeDist (None, 15, 7, 7, 32)      0         \n",
      "_________________________________________________________________\n",
      "time_distributed_10 (TimeDis (None, 15, 7, 7, 32)      128       \n",
      "_________________________________________________________________\n",
      "dropout (Dropout)            (None, 15, 7, 7, 32)      0         \n",
      "_________________________________________________________________\n",
      "time_distributed_11 (TimeDis (None, 15, 1568)          0         \n",
      "_________________________________________________________________\n",
      "dense (Dense)                (None, 15, 128)           200832    \n",
      "_________________________________________________________________\n",
      "dropout_1 (Dropout)          (None, 15, 128)           0         \n",
      "_________________________________________________________________\n",
      "gru (GRU)                    (None, 128)               98688     \n",
      "_________________________________________________________________\n",
      "dense_1 (Dense)              (None, 5)                 645       \n",
      "=================================================================\n",
      "Total params: 303,901\n",
      "Trainable params: 303,805\n",
      "Non-trainable params: 96\n",
      "_________________________________________________________________\n",
      "None\n"
     ]
    }
   ],
   "source": [
    "optimiser = 'sgd'\n",
    "model.compile(optimizer=optimiser, loss='categorical_crossentropy', metrics=['categorical_accuracy'])\n",
    "print (model.summary())"
   ]
  },
  {
   "cell_type": "code",
   "execution_count": 21,
   "metadata": {},
   "outputs": [],
   "source": [
    "train_generator = generator(train_path, train_doc, batch_size)\n",
    "val_generator = generator(val_path, val_doc, batch_size)"
   ]
  },
  {
   "cell_type": "code",
   "execution_count": 22,
   "metadata": {},
   "outputs": [],
   "source": [
    "model_name = 'model_init' + '_' + str(curr_dt_time).replace(' ','').replace(':','_') + '/'\n",
    "    \n",
    "if not os.path.exists(model_name):\n",
    "    os.mkdir(model_name)\n",
    "        \n",
    "filepath = model_name + 'model-{epoch:05d}-{loss:.5f}-{categorical_accuracy:.5f}-{val_loss:.5f}-{val_categorical_accuracy:.5f}.h5'\n",
    "\n",
    "checkpoint = ModelCheckpoint(filepath, monitor='val_loss', verbose=1, save_best_only=False, save_weights_only=False, mode='auto', period=1)\n",
    "\n",
    "# write the REducelronplateau code here\n",
    "LR = ReduceLROnPlateau(monitor='val_loss', factor=0.5, patience=2, cooldown=1, verbose=1)\n",
    "callbacks_list = [checkpoint, LR]"
   ]
  },
  {
   "cell_type": "code",
   "execution_count": 23,
   "metadata": {},
   "outputs": [],
   "source": [
    "batch_size = 10\n",
    "num_epochs = 10"
   ]
  },
  {
   "cell_type": "code",
   "execution_count": 24,
   "metadata": {},
   "outputs": [],
   "source": [
    "if (num_train_sequences%batch_size) == 0:\n",
    "    steps_per_epoch = int(num_train_sequences/batch_size)\n",
    "else:\n",
    "    steps_per_epoch = (num_train_sequences//batch_size) + 1\n",
    "\n",
    "if (num_val_sequences%batch_size) == 0:\n",
    "    validation_steps = int(num_val_sequences/batch_size)\n",
    "else:\n",
    "    validation_steps = (num_val_sequences//batch_size) + 1"
   ]
  },
  {
   "cell_type": "code",
   "execution_count": 25,
   "metadata": {},
   "outputs": [
    {
     "name": "stdout",
     "output_type": "stream",
     "text": [
      "Source path =  ./Project_data/train ; batch size = 10\n",
      "Epoch 1/10\n",
      "66/67 [============================>.] - ETA: 0s - loss: 1.5534 - categorical_accuracy: 0.3068Source path =  ./Project_data/val ; batch size = 10\n",
      "\n",
      "Epoch 00001: saving model to model_init_2019-12-2317_45_27.793992/model-00001-1.55323-0.30694-1.95701-0.28500.h5\n",
      "67/67 [==============================] - 45s 671ms/step - loss: 1.5529 - categorical_accuracy: 0.3072 - val_loss: 1.9570 - val_categorical_accuracy: 0.2850\n",
      "Epoch 2/10\n",
      "66/67 [============================>.] - ETA: 0s - loss: 1.2773 - categorical_accuracy: 0.4874\n",
      "Epoch 00002: saving model to model_init_2019-12-2317_45_27.793992/model-00002-1.28052-0.48507-1.59197-0.36500.h5\n",
      "67/67 [==============================] - 14s 215ms/step - loss: 1.2805 - categorical_accuracy: 0.4851 - val_loss: 1.5920 - val_categorical_accuracy: 0.3650\n",
      "Epoch 3/10\n",
      "66/67 [============================>.] - ETA: 0s - loss: 1.1310 - categorical_accuracy: 0.5808\n",
      "Epoch 00003: saving model to model_init_2019-12-2317_45_27.793992/model-00003-1.13203-0.58209-1.17851-0.54500.h5\n",
      "67/67 [==============================] - 15s 221ms/step - loss: 1.1320 - categorical_accuracy: 0.5821 - val_loss: 1.1785 - val_categorical_accuracy: 0.5450\n",
      "Epoch 4/10\n",
      "66/67 [============================>.] - ETA: 0s - loss: 1.1506 - categorical_accuracy: 0.5581\n",
      "Epoch 00004: saving model to model_init_2019-12-2317_45_27.793992/model-00004-1.14771-0.55721-1.49815-0.56000.h5\n",
      "67/67 [==============================] - 14s 215ms/step - loss: 1.1477 - categorical_accuracy: 0.5572 - val_loss: 1.4982 - val_categorical_accuracy: 0.5600\n",
      "Epoch 5/10\n",
      "66/67 [============================>.] - ETA: 0s - loss: 0.9578 - categorical_accuracy: 0.6540\n",
      "Epoch 00005: saving model to model_init_2019-12-2317_45_27.793992/model-00005-0.95788-0.65423-1.24919-0.62500.h5\n",
      "\n",
      "Epoch 00005: ReduceLROnPlateau reducing learning rate to 0.004999999888241291.\n",
      "67/67 [==============================] - 15s 228ms/step - loss: 0.9579 - categorical_accuracy: 0.6542 - val_loss: 1.2492 - val_categorical_accuracy: 0.6250\n",
      "Epoch 6/10\n",
      "66/67 [============================>.] - ETA: 0s - loss: 0.9122 - categorical_accuracy: 0.6414\n",
      "Epoch 00006: saving model to model_init_2019-12-2317_45_27.793992/model-00006-0.91162-0.64179-0.97266-0.62500.h5\n",
      "67/67 [==============================] - 14s 210ms/step - loss: 0.9116 - categorical_accuracy: 0.6418 - val_loss: 0.9727 - val_categorical_accuracy: 0.6250\n",
      "Epoch 7/10\n",
      "66/67 [============================>.] - ETA: 0s - loss: 0.7381 - categorical_accuracy: 0.7348\n",
      "Epoch 00007: saving model to model_init_2019-12-2317_45_27.793992/model-00007-0.74116-0.73134-0.75241-0.72500.h5\n",
      "67/67 [==============================] - 14s 215ms/step - loss: 0.7412 - categorical_accuracy: 0.7313 - val_loss: 0.7524 - val_categorical_accuracy: 0.7250\n",
      "Epoch 8/10\n",
      "66/67 [============================>.] - ETA: 0s - loss: 0.7698 - categorical_accuracy: 0.7121\n",
      "Epoch 00008: saving model to model_init_2019-12-2317_45_27.793992/model-00008-0.76878-0.71393-1.08669-0.66000.h5\n",
      "67/67 [==============================] - 14s 213ms/step - loss: 0.7688 - categorical_accuracy: 0.7139 - val_loss: 1.0867 - val_categorical_accuracy: 0.6600\n",
      "Epoch 9/10\n",
      "66/67 [============================>.] - ETA: 0s - loss: 0.6042 - categorical_accuracy: 0.7551\n",
      "Epoch 00009: saving model to model_init_2019-12-2317_45_27.793992/model-00009-0.61128-0.74876-0.84458-0.68500.h5\n",
      "\n",
      "Epoch 00009: ReduceLROnPlateau reducing learning rate to 0.0024999999441206455.\n",
      "67/67 [==============================] - 15s 223ms/step - loss: 0.6113 - categorical_accuracy: 0.7488 - val_loss: 0.8446 - val_categorical_accuracy: 0.6850\n",
      "Epoch 10/10\n",
      "66/67 [============================>.] - ETA: 0s - loss: 0.7130 - categorical_accuracy: 0.7323\n",
      "Epoch 00010: saving model to model_init_2019-12-2317_45_27.793992/model-00010-0.70702-0.73632-0.75198-0.74000.h5\n",
      "67/67 [==============================] - 14s 212ms/step - loss: 0.7070 - categorical_accuracy: 0.7363 - val_loss: 0.7520 - val_categorical_accuracy: 0.7400\n"
     ]
    },
    {
     "data": {
      "text/plain": [
       "<tensorflow.python.keras.callbacks.History at 0x7f74e3a56780>"
      ]
     },
     "execution_count": 25,
     "metadata": {},
     "output_type": "execute_result"
    }
   ],
   "source": [
    "model.fit_generator(train_generator,\n",
    "                    steps_per_epoch=steps_per_epoch,\n",
    "                    epochs=num_epochs,\n",
    "                    verbose=1, \n",
    "                    callbacks=callbacks_list,\n",
    "                    validation_data=val_generator, \n",
    "                    validation_steps=validation_steps,\n",
    "                    class_weight=None,\n",
    "                    shuffle=True,\n",
    "                    workers=1,\n",
    "                    initial_epoch=0)"
   ]
  },
  {
   "cell_type": "markdown",
   "metadata": {},
   "source": [
    "The Conv-RNN Model was yeilding accuracy of 73% in training data and 74% in validation data with 303,901 parameters."
   ]
  }
 ],
 "metadata": {
  "kernelspec": {
   "display_name": "Python 3",
   "language": "python",
   "name": "python3"
  },
  "language_info": {
   "codemirror_mode": {
    "name": "ipython",
    "version": 3
   },
   "file_extension": ".py",
   "mimetype": "text/x-python",
   "name": "python",
   "nbconvert_exporter": "python",
   "pygments_lexer": "ipython3",
   "version": "3.8.8"
  },
  "toc": {
   "base_numbering": 1,
   "nav_menu": {},
   "number_sections": true,
   "sideBar": true,
   "skip_h1_title": false,
   "title_cell": "Table of Contents",
   "title_sidebar": "Contents",
   "toc_cell": false,
   "toc_position": {},
   "toc_section_display": true,
   "toc_window_display": false
  },
  "varInspector": {
   "cols": {
    "lenName": 16,
    "lenType": 16,
    "lenVar": 40
   },
   "kernels_config": {
    "python": {
     "delete_cmd_postfix": "",
     "delete_cmd_prefix": "del ",
     "library": "var_list.py",
     "varRefreshCmd": "print(var_dic_list())"
    },
    "r": {
     "delete_cmd_postfix": ") ",
     "delete_cmd_prefix": "rm(",
     "library": "var_list.r",
     "varRefreshCmd": "cat(var_dic_list()) "
    }
   },
   "types_to_exclude": [
    "module",
    "function",
    "builtin_function_or_method",
    "instance",
    "_Feature"
   ],
   "window_display": false
  }
 },
 "nbformat": 4,
 "nbformat_minor": 2
}
